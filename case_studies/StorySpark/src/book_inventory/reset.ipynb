{
 "cells": [
  {
   "cell_type": "code",
   "execution_count": 0,
   "metadata": {
    "application/vnd.databricks.v1+cell": {
     "cellMetadata": {
      "byteLimit": 2048000,
      "rowLimit": 10000
     },
     "inputWidgets": {},
     "nuid": "b3b79bce-965e-4cb0-b0a8-803f4659b51b",
     "showTitle": false,
     "tableResultSettingsMap": {},
     "title": ""
    }
   },
   "outputs": [],
   "source": [
    "# Guide -- https://docs.databricks.com/aws/en/generative-ai/create-query-vector-search\n",
    "\n",
    "%pip install databricks-vectorsearch\n",
    "dbutils.library.restartPython()\n",
    "\n"
   ]
  },
  {
   "cell_type": "code",
   "execution_count": 0,
   "metadata": {
    "application/vnd.databricks.v1+cell": {
     "cellMetadata": {
      "byteLimit": 2048000,
      "implicitDf": true,
      "rowLimit": 10000
     },
     "inputWidgets": {},
     "nuid": "0f972554-702d-4b7e-914f-5ef93688197a",
     "showTitle": false,
     "tableResultSettingsMap": {},
     "title": ""
    }
   },
   "outputs": [],
   "source": [
    "%sql\n",
    "--CREATE CATALOG IF NOT EXISTS prod\n",
    "\n",
    "--CREATE SCHEMA IF NOT EXISTS prod.storyspark;\n",
    "\n",
    "/*\n",
    "USE CATALOG prod;\n",
    "USE SCHEMA storyspark;\n",
    "CREATE TABLE IF NOT EXISTS book_inventory(\n",
    "  book_id STRING,\n",
    "  owner_id STRING,\n",
    "  title STRING,\n",
    "  author STRING,\n",
    "  last_read DATE,\n",
    "  relevant_text STRING,\n",
    "  last_updated_at TIMESTAMP\n",
    ")\n",
    "USING DELTA;\n",
    "*/\n",
    "\n",
    "/*\n",
    "ALTER TABLE prod.storyspark.book_inventory\n",
    "  SET TBLPROPERTIES (delta.enableChangeDataFeed = true)\n",
    "*/\n"
   ]
  },
  {
   "cell_type": "code",
   "execution_count": 0,
   "metadata": {
    "application/vnd.databricks.v1+cell": {
     "cellMetadata": {
      "byteLimit": 2048000,
      "rowLimit": 10000
     },
     "inputWidgets": {},
     "nuid": "dcc78118-6f4c-40fd-9b0b-a1941b9fc989",
     "showTitle": false,
     "tableResultSettingsMap": {},
     "title": ""
    }
   },
   "outputs": [],
   "source": [
    "from databricks.vector_search.client import VectorSearchClient\n",
    "\n",
    "# The following line automatically generates a PAT Token for authentication\n",
    "client = VectorSearchClient()\n",
    "\n",
    "# The following line uses the service principal token for authentication\n",
    "# client = VectorSearchClient(service_principal_client_id=<CLIENT_ID>,service_principal_client_secret=<CLIENT_SECRET>)\n",
    "\n",
    "client.create_endpoint(\n",
    "    name=\"storyspark_book_inventory_endpoint\",\n",
    "    endpoint_type=\"STANDARD\" # or \"STORAGE_OPTIMIZED\"\n",
    ")"
   ]
  }
 ],
 "metadata": {
  "application/vnd.databricks.v1+notebook": {
   "computePreferences": null,
   "dashboards": [],
   "environmentMetadata": {
    "base_environment": "",
    "environment_version": "3"
   },
   "inputWidgetPreferences": null,
   "language": "python",
   "notebookMetadata": {
    "mostRecentlyExecutedCommandWithImplicitDF": {
     "commandId": 6438417860760018,
     "dataframes": [
      "_sqldf"
     ]
    },
    "pythonIndentUnit": 4
   },
   "notebookName": "reset",
   "widgets": {}
  },
  "language_info": {
   "name": "python"
  }
 },
 "nbformat": 4,
 "nbformat_minor": 0
}
