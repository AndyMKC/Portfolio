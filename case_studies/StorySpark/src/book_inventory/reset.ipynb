{
 "cells": [
  {
   "cell_type": "code",
   "execution_count": 0,
   "metadata": {
    "application/vnd.databricks.v1+cell": {
     "cellMetadata": {
      "byteLimit": 2048000,
      "rowLimit": 10000
     },
     "inputWidgets": {},
     "nuid": "b3b79bce-965e-4cb0-b0a8-803f4659b51b",
     "showTitle": false,
     "tableResultSettingsMap": {},
     "title": ""
    }
   },
   "outputs": [],
   "source": [
    "# Guide -- https://docs.databricks.com/aws/en/generative-ai/create-query-vector-search\n",
    "\n",
    "%pip install databricks-vectorsearch\n",
    "dbutils.library.restartPython()"
   ]
  },
  {
   "cell_type": "code",
   "execution_count": 0,
   "metadata": {
    "application/vnd.databricks.v1+cell": {
     "cellMetadata": {
      "byteLimit": 2048000,
      "implicitDf": true,
      "rowLimit": 10000
     },
     "inputWidgets": {},
     "nuid": "0f972554-702d-4b7e-914f-5ef93688197a",
     "showTitle": true,
     "tableResultSettingsMap": {
      "0": {
       "dataGridStateBlob": "{\"version\":1,\"tableState\":{\"columnPinning\":{\"left\":[\"#row_number#\"],\"right\":[]},\"columnSizing\":{},\"columnVisibility\":{}},\"settings\":{\"columns\":{}},\"syncTimestamp\":1757372299559}",
       "filterBlob": null,
       "queryPlanFiltersBlob": null,
       "tableResultIndex": 0
      }
     },
     "title": "Helper code to reset table if necessary"
    }
   },
   "outputs": [],
   "source": [
    "%sql\n",
    "--CREATE CATALOG IF NOT EXISTS prod\n",
    "\n",
    "--CREATE SCHEMA IF NOT EXISTS prod.storyspark;\n",
    "\n",
    "USE CATALOG prod;\n",
    "USE SCHEMA storyspark;\n",
    "\n",
    "--DROP TABLE IF EXISTS prod.storyspark.book_inventory;\n",
    "\n",
    "--SHOW TABLES IN prod.storyspark;\n",
    "\n",
    "/*\n",
    "CREATE TABLE IF NOT EXISTS book_inventory(\n",
    "  entry_id STRING,\n",
    "  book_id STRING,\n",
    "  owner_id STRING,\n",
    "  title STRING,\n",
    "  author STRING,\n",
    "  last_read DATE,\n",
    "  relevant_text STRING,\n",
    "  last_updated_at TIMESTAMP\n",
    ")\n",
    "USING DELTA;\n",
    "\n",
    "ALTER TABLE prod.storyspark.book_inventory\n",
    "  SET TBLPROPERTIES (delta.enableChangeDataFeed = true)\n",
    "*/\n"
   ]
  },
  {
   "cell_type": "code",
   "execution_count": 0,
   "metadata": {
    "application/vnd.databricks.v1+cell": {
     "cellMetadata": {
      "byteLimit": 2048000,
      "rowLimit": 10000
     },
     "inputWidgets": {},
     "nuid": "dcc78118-6f4c-40fd-9b0b-a1941b9fc989",
     "showTitle": false,
     "tableResultSettingsMap": {},
     "title": ""
    }
   },
   "outputs": [],
   "source": [
    "# We can reuse this endpoint so no need to create it over and over again\n",
    "\n",
    "from databricks.vector_search.client import VectorSearchClient\n",
    "\n",
    "# The following line automatically generates a PAT Token for authentication\n",
    "client = VectorSearchClient()\n",
    "\n",
    "# Define your index details\n",
    "endpoint_name = \"storyspark_book_inventory_endpoint\"\n",
    "source_table_name = \"prod.storyspark.book_inventory\"\n",
    "index_name = \"prod.storyspark.book_inventory_index\"\n",
    "primary_key = \"entry_id\"\n",
    "embedding_source_column = \"relevant_text\"\n",
    "embedding_model_endpoint_name = \"databricks-gte-large-en\"\n",
    "\n",
    "# We are only using one end point so we do not need to continually delete/remake this one.  We can just reuse it.\n",
    "# client.create_endpoint(\\\n",
    "#     name=endpoint_name,\\\n",
    "#     endpoint_type=\"STANDARD\"\\\n",
    "# )\n",
    "\n",
    "# Create the Delta Sync Index in TRIGGERED mode and use sync_book_inventory to do the sync per scheduled job\n",
    "# client.list_indexes(endpoint_name)\n",
    "# client.delete_index(index_name=index_name)\n",
    "# client.create_delta_sync_index(\\\n",
    "#     endpoint_name=endpoint_name,\\\n",
    "#     source_table_name=source_table_name,\\\n",
    "#     index_name=index_name,\\\n",
    "#     pipeline_type=\"TRIGGERED\",\\\n",
    "#     primary_key=primary_key,\\\n",
    "#     embedding_source_column=embedding_source_column,\\\n",
    "#     embedding_model_endpoint_name=embedding_model_endpoint_name\\\n",
    "# )"
   ]
  },
  {
   "cell_type": "code",
   "execution_count": 0,
   "metadata": {
    "application/vnd.databricks.v1+cell": {
     "cellMetadata": {
      "byteLimit": 2048000,
      "rowLimit": 10000
     },
     "inputWidgets": {},
     "nuid": "73e4a8be-b27e-4963-8598-84beaadb6e48",
     "showTitle": false,
     "tableResultSettingsMap": {},
     "title": ""
    }
   },
   "outputs": [],
   "source": [
    "from pyspark.sql import Row\n",
    "import json\n",
    "\n",
    "owner1 = \"amcheng@umich.edu\"\n",
    "owner2 = \"andy.ming.kong.cheng@gmail.com\"\n",
    "\n",
    "book_data = []\n",
    "book_data.append({\\\n",
    "    \"relevant_text\": \"princess, giant, beanstalk, fairy tales, bedtime stories, porridge, friendship, friends\",\\\n",
    "    \"book_id\": \"978-0763680077\",\\\n",
    "    \"owner_id\": \"amcheng@umich.edu\",\\\n",
    "    \"title\": \"The Princess and the Giant\",\\\n",
    "    \"author\": \"Caryl Hart/Sarah Warburton\"\\\n",
    "})\n",
    "book_data.append({\\\n",
    "    \"relevant_text\": \"elephant, pig, piggy, gerald, friendship, friends, waiting\",\\\n",
    "    \"book_id\": \"978-1423199571\",\\\n",
    "    \"owner_id\": \"amcheng@umich.edu\",\\\n",
    "    \"title\": \"Waiting Is Not Easy!\",\\\n",
    "    \"author\": \"Mo Willems\"\\\n",
    "})\n",
    "book_data.append({\\\n",
    "    \"relevant_text\": \"elephant, pig, piggy, gerald, friendship, friends, bird\",\\\n",
    "    \"book_id\": \"978-1423106869\",\\\n",
    "    \"owner_id\": \"amcheng@umich.edu\",\\\n",
    "    \"title\": \"There Is a Bird On Your Head!\",\\\n",
    "    \"author\": \"Mo Willems\"\\\n",
    "})\n",
    "book_data.append({\\\n",
    "    \"relevant_text\": \"elephant, pig, piggy, gerald, friendship, friends, ice cream, heat, sharing\",\\\n",
    "    \"book_id\": \"978-1423143437\",\\\n",
    "    \"owner_id\": \"amcheng@umich.edu\",\\\n",
    "    \"title\": \"Should I Share My Ice Cream?\",\\\n",
    "    \"author\": \"Mo Willems\"\\\n",
    "})\n",
    "book_data.append({\\\n",
    "    \"relevant_text\": \"elephant, pig, piggy, gerald, friendship, friends, book, 4th wall\",\\\n",
    "    \"book_id\": \"978-1423133087\",\\\n",
    "    \"owner_id\": \"amcheng@umich.edu\",\\\n",
    "    \"title\": \"We Are in a Book!\",\\\n",
    "    \"author\": \"Mo Willems\"\\\n",
    "})\n",
    "book_data.append({\\\n",
    "    \"relevant_text\": \"elephant, pig, piggy, gerald, friendship, friends, new friend, ball, dinosaur\",\\\n",
    "    \"book_id\": \"978-1423174912\",\\\n",
    "    \"owner_id\": \"amcheng@umich.edu\",\\\n",
    "    \"title\": \"A Big Guy Took My Ball!\",\\\n",
    "    \"author\": \"Mo Willems\"\\\n",
    "})\n",
    "book_data.append({\\\n",
    "    \"relevant_text\": \"elephant, pig, piggy, gerald, friendship, friends, new friend, jealousy, scared, worried\",\\\n",
    "    \"book_id\": \"978-1423179580\",\\\n",
    "    \"owner_id\": \"amcheng@umich.edu\",\\\n",
    "    \"title\": \"My New Friend Is So Fun!\",\\\n",
    "    \"author\": \"Mo Willems\"\\\n",
    "})\n",
    "book_data.append({\\\n",
    "    \"relevant_text\": \"elephant, pig, piggy, gerald, friendship, friends, piano, hippo, sister, funny, cast\",\\\n",
    "    \"book_id\": \"978-1423133094\",\\\n",
    "    \"owner_id\": \"amcheng@umich.edu\",\\\n",
    "    \"title\": \"I Broke My Trunk!\",\\\n",
    "    \"author\": \"Mo Willems\"\\\n",
    "})\n",
    "book_data.append({\\\n",
    "    \"relevant_text\": \"elephant, pig, piggy, gerald, friendship, friends, party, costume, fancy, pool party\",\\\n",
    "    \"book_id\": \"978-1423106876\",\\\n",
    "    \"owner_id\": \"amcheng@umich.edu\",\\\n",
    "    \"title\": \"I Am Invited to a Party!\",\\\n",
    "    \"author\": \"Mo Willems\"\\\n",
    "})\n",
    "book_data.append({\\\n",
    "    \"relevant_text\": \"elephant, pig, piggy, gerald, friendship, friends, best friend, worried, doctor, sneezing, cold, allergies\",\\\n",
    "    \"book_id\": \"978-1423114116\",\\\n",
    "    \"owner_id\": \"amcheng@umich.edu\",\\\n",
    "    \"title\": \"Pigs Make Me Sneeze!\",\\\n",
    "    \"author\": \"Mo Willems\"\\\n",
    "})\n",
    "book_data.append({\\\n",
    "    \"relevant_text\": \"elephant, pig, piggy, gerald, friendship, friends, lunch, going\",\\\n",
    "    \"book_id\": \"978-1423119906\",\\\n",
    "    \"owner_id\": \"amcheng@umich.edu\",\\\n",
    "    \"title\": \"I Am Going!\",\\\n",
    "    \"author\": \"Mo Willems\"\\\n",
    "})\n",
    "book_data.append({\\\n",
    "    \"relevant_text\": \"elephant, pig, piggy, gerald, friendship, friends, sad, cheering up, robot, clown, cowboy\",\\\n",
    "    \"book_id\": \"978-1423102977\",\\\n",
    "    \"owner_id\": \"amcheng@umich.edu\",\\\n",
    "    \"title\": \"My Friend is Sad\",\\\n",
    "    \"author\": \"Mo Willems\"\\\n",
    "})\n",
    "book_data.append({\\\n",
    "    \"relevant_text\": \"elephant, pig, piggy, gerald, friendship, friends, train, toys, food, hill, children\",\\\n",
    "    \"book_id\": \"978-0448405209\",\\\n",
    "    \"owner_id\": \"amcheng@umich.edu\",\\\n",
    "    \"title\": \"The Little Engine That Could\",\\\n",
    "    \"author\": \"Watty Piper/George Hauman/Doris Hauman\"\\\n",
    "})\n",
    "book_data.append({\\\n",
    "    \"relevant_text\": \"princess, giant, beanstalk, fairy tales, bedtime stories, porridge, friendship, friends\",\\\n",
    "    \"book_id\": \"978-0763680077\",\\\n",
    "    \"owner_id\": \"andy.ming.kong.cheng@gmail.com\",\\\n",
    "    \"title\": \"The Princess and the Giant\",\\\n",
    "    \"author\": \"Caryl Hart/Sarah Warburton\"\\\n",
    "})\n",
    "\n",
    "# Create the primary key from concatentation\n",
    "for bd in book_data:\n",
    "    bd[\"entry_id\"] = f\"{bd[\"owner_id\"]}_{bd[\"book_id\"]}\"\n",
    "\n",
    "rows = [Row(**book_dict) for book_dict in book_data]\n",
    "df = spark.createDataFrame(rows)\n",
    "display(df)\n",
    "\n",
    "df.write.mode(\"overwrite\").saveAsTable(\"prod.storyspark.book_inventory\")"
   ]
  },
  {
   "cell_type": "code",
   "execution_count": 0,
   "metadata": {
    "application/vnd.databricks.v1+cell": {
     "cellMetadata": {
      "byteLimit": 2048000,
      "rowLimit": 10000
     },
     "inputWidgets": {},
     "nuid": "0c1a3ff4-a30c-4472-8beb-fbb112242cf9",
     "showTitle": true,
     "tableResultSettingsMap": {},
     "title": "Read to verify the table was created properly"
    }
   },
   "outputs": [],
   "source": [
    "display(spark.read.table(\"prod.storyspark.book_inventory\"))"
   ]
  }
 ],
 "metadata": {
  "application/vnd.databricks.v1+notebook": {
   "computePreferences": null,
   "dashboards": [],
   "environmentMetadata": {
    "base_environment": "",
    "environment_version": "3"
   },
   "inputWidgetPreferences": null,
   "language": "python",
   "notebookMetadata": {
    "mostRecentlyExecutedCommandWithImplicitDF": {
     "commandId": 6438417860760018,
     "dataframes": [
      "_sqldf"
     ]
    },
    "pythonIndentUnit": 4
   },
   "notebookName": "reset",
   "widgets": {}
  },
  "language_info": {
   "name": "python"
  }
 },
 "nbformat": 4,
 "nbformat_minor": 0
}
