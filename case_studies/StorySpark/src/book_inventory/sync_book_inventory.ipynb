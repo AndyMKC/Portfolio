{
 "cells": [
  {
   "cell_type": "code",
   "execution_count": 0,
   "metadata": {
    "application/vnd.databricks.v1+cell": {
     "cellMetadata": {
      "byteLimit": 2048000,
      "rowLimit": 10000
     },
     "inputWidgets": {},
     "nuid": "0f540cd4-d148-406a-84ee-7e82bf43b9bb",
     "showTitle": false,
     "tableResultSettingsMap": {},
     "title": ""
    }
   },
   "outputs": [],
   "source": [
    "%pip install databricks-vectorsearch\n",
    "dbutils.library.restartPython()"
   ]
  },
  {
   "cell_type": "code",
   "execution_count": 0,
   "metadata": {
    "application/vnd.databricks.v1+cell": {
     "cellMetadata": {
      "byteLimit": 2048000,
      "rowLimit": 10000
     },
     "inputWidgets": {},
     "nuid": "e817c39d-d58f-43e7-a889-52fbf30adc0f",
     "showTitle": false,
     "tableResultSettingsMap": {},
     "title": ""
    }
   },
   "outputs": [],
   "source": [
    "from databricks.vector_search.client import VectorSearchClient\n",
    "\n",
    "client = VectorSearchClient()\n",
    "\n",
    "index_name = \"prod.storyspark.book_inventory_index\"\n",
    "\n",
    "# Trigger the sync process for your index\n",
    "index = client.get_index(endpoint_name=\"storyspark_book_inventory_endpoint\", index_name=index_name)\n",
    "index.sync()\n",
    "\n",
    "print(f\"Sync for index '{index_name}' has been triggered.\")"
   ]
  },
  {
   "cell_type": "code",
   "execution_count": 0,
   "metadata": {
    "application/vnd.databricks.v1+cell": {
     "cellMetadata": {
      "byteLimit": 2048000,
      "rowLimit": 10000
     },
     "inputWidgets": {},
     "nuid": "0ded8e2b-4bfc-4881-a110-535577cc8061",
     "showTitle": true,
     "tableResultSettingsMap": {},
     "title": "Example search query"
    }
   },
   "outputs": [],
   "source": [
    "# from databricks.vector_search.client import VectorSearchClient\n",
    "\n",
    "# client = VectorSearchClient()\n",
    "# index_name = \"prod.storyspark.book_inventory_index\"\n",
    "\n",
    "# # Get an instance of the index\n",
    "# index = client.get_index(endpoint_name=\"storyspark_book_inventory_endpoint\", index_name=index_name)\n",
    "\n",
    "# # Perform a similarity search using a text string\n",
    "# results = index.similarity_search(\\\n",
    "#     query_text=\"elephant\",\\\n",
    "#     columns=[\"relevant_text\", \"title\", \"author\", \"book_id\", \"entry_id\", \"owner_id\"],\\\n",
    "#     #filters={\"owner_id\": \"amcheng@umich.edu\"},\\\n",
    "#     num_results=20\\\n",
    "# )\n",
    "\n",
    "# # Print the results\n",
    "# import json\n",
    "# print(json.dumps(results, indent=2))\n"
   ]
  }
 ],
 "metadata": {
  "application/vnd.databricks.v1+notebook": {
   "computePreferences": null,
   "dashboards": [],
   "environmentMetadata": {
    "base_environment": "",
    "environment_version": "3"
   },
   "inputWidgetPreferences": null,
   "language": "python",
   "notebookMetadata": {
    "mostRecentlyExecutedCommandWithImplicitDF": {
     "commandId": 7796741598669697,
     "dataframes": [
      "_sqldf"
     ]
    },
    "pythonIndentUnit": 4
   },
   "notebookName": "sync_book_inventory",
   "widgets": {}
  },
  "language_info": {
   "name": "python"
  }
 },
 "nbformat": 4,
 "nbformat_minor": 0
}
